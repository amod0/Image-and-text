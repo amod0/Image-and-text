{
  "nbformat": 4,
  "nbformat_minor": 0,
  "metadata": {
    "colab": {
      "provenance": []
    },
    "kernelspec": {
      "name": "python3",
      "display_name": "Python 3"
    },
    "language_info": {
      "name": "python"
    }
  },
  "cells": [
    {
      "cell_type": "code",
      "execution_count": null,
      "metadata": {
        "colab": {
          "base_uri": "https://localhost:8080/"
        },
        "id": "B5Uw6hwtDY5J",
        "outputId": "56c2a950-e99a-43b1-d447-9626a8a16e3d"
      },
      "outputs": [
        {
          "output_type": "stream",
          "name": "stdout",
          "text": [
            "Mounted at /content/drive\n"
          ]
        }
      ],
      "source": [
        "from google.colab import drive\n",
        "drive.mount('/content/drive')"
      ]
    },
    {
      "cell_type": "markdown",
      "source": [
        "# Importing the necessery libaries"
      ],
      "metadata": {
        "id": "oHk56Tn1VeA1"
      }
    },
    {
      "cell_type": "code",
      "source": [
        "import pandas as pd\n",
        "import re\n",
        "from sklearn.model_selection import train_test_split\n",
        "from keras.preprocessing.text import Tokenizer\n",
        "from tensorflow.keras.preprocessing.sequence import pad_sequences\n",
        "from keras.models import Sequential\n",
        "from keras.layers import Embedding, LSTM, Dense\n",
        "from keras.callbacks import EarlyStopping\n",
        "import matplotlib.pyplot as plt\n",
        "import tensorflow as tf\n",
        "from sklearn.metrics import confusion_matrix, f1_score, roc_curve, auc"
      ],
      "metadata": {
        "id": "X0b6Cb81Df0t"
      },
      "execution_count": null,
      "outputs": []
    },
    {
      "cell_type": "code",
      "source": [
        "# load the dataset\n",
        "data_path=\"/content/drive/MyDrive/Amazon Book Review/kindle_review.csv\"\n",
        "data = pd.read_csv(data_path)`"
      ],
      "metadata": {
        "id": "QuaMg27MDjOK"
      },
      "execution_count": null,
      "outputs": []
    },
    {
      "cell_type": "markdown",
      "source": [
        "# Visualizing the dataset\n"
      ],
      "metadata": {
        "id": "hslPk1SEV5kh"
      }
    },
    {
      "cell_type": "code",
      "source": [
        "#Display the initial five rows of the dataset\n",
        "print(data.head())"
      ],
      "metadata": {
        "colab": {
          "base_uri": "https://localhost:8080/"
        },
        "id": "rzYi9onwDytT",
        "outputId": "4a79d6bb-15f1-48f5-d8aa-772e956eaabe"
      },
      "execution_count": null,
      "outputs": [
        {
          "output_type": "stream",
          "name": "stdout",
          "text": [
            "   Unnamed: 0  rating                                         reviewText  \\\n",
            "0           0       5  This book was the very first bookmobile book I...   \n",
            "1           1       1  When I read the description for this book, I c...   \n",
            "2           2       5  I just had to edit this review. This book is a...   \n",
            "3           3       5  I don't normally buy 'mystery' novels because ...   \n",
            "4           4       5  This isn't the kind of book I normally read, a...   \n",
            "\n",
            "                           summary  \n",
            "0                50 + years ago...  \n",
            "1          Boring! Boring! Boring!  \n",
            "2  Wiggleliscious/new toy ready/!!  \n",
            "3                  Very good read.  \n",
            "4                     Great Story!  \n"
          ]
        }
      ]
    },
    {
      "cell_type": "code",
      "source": [
        "print(data.tail())"
      ],
      "metadata": {
        "colab": {
          "base_uri": "https://localhost:8080/"
        },
        "id": "WrjAWE_7oHqA",
        "outputId": "dfe9d961-49f4-4e58-9b36-de9ba1b0afd3"
      },
      "execution_count": null,
      "outputs": [
        {
          "output_type": "stream",
          "name": "stdout",
          "text": [
            "       Unnamed: 0  rating                                         reviewText  \\\n",
            "11995       11995       2  Had to read certain passages twice--typos.  Wi...   \n",
            "11996       11996       3  Not what i expected. yet a very interesting bo...   \n",
            "11997       11997       5  Dragon Knights is a world where Knights ride d...   \n",
            "11998       11998       4  Since this story is very short, it's hard to s...   \n",
            "11999       11999       4  from 1922 an amazing collection of info on sym...   \n",
            "\n",
            "                                                 summary  \n",
            "11995                                  Where's the meat?  \n",
            "11996                                        Interesting  \n",
            "11997  Dragon Knights, Wings of Change (I Dream of Dr...  \n",
            "11998                          Good writing, short story  \n",
            "11999                     interesting public domain book  \n"
          ]
        }
      ]
    },
    {
      "cell_type": "code",
      "source": [
        "data.isnull().any()"
      ],
      "metadata": {
        "colab": {
          "base_uri": "https://localhost:8080/"
        },
        "id": "Kjo3xqprD5VD",
        "outputId": "16fd5786-e2d8-4f1f-86ed-2de1849580a3"
      },
      "execution_count": null,
      "outputs": [
        {
          "output_type": "execute_result",
          "data": {
            "text/plain": [
              "Unnamed: 0    False\n",
              "rating        False\n",
              "reviewText    False\n",
              "summary        True\n",
              "dtype: bool"
            ]
          },
          "metadata": {},
          "execution_count": 7
        }
      ]
    },
    {
      "cell_type": "markdown",
      "source": [
        "# Data Pre-Processing"
      ],
      "metadata": {
        "id": "vp8S_vQZWK_y"
      }
    },
    {
      "cell_type": "markdown",
      "source": [
        "### Removing unwanted characters and text"
      ],
      "metadata": {
        "id": "PHqbZh6UWyeP"
      }
    },
    {
      "cell_type": "code",
      "source": [
        "# Cleaning the data\n",
        "data = data[['reviewText', 'rating']]\n",
        "data = data.dropna()\n",
        "data = data[data['rating'] != 3]\n",
        "data['sentiment'] = data['rating'].apply(lambda x: 1 if x > 3 else 0)\n",
        "data = data.drop(columns=['rating'])"
      ],
      "metadata": {
        "id": "kdvFohPlD70D"
      },
      "execution_count": null,
      "outputs": []
    },
    {
      "cell_type": "code",
      "source": [
        "# remove unwanted text\n",
        "data['reviewText'] = data['reviewText'].apply(lambda x: re.sub('[^a-zA-Z0-9\\s]', '', x))"
      ],
      "metadata": {
        "id": "WPz71SCAD_Jh"
      },
      "execution_count": null,
      "outputs": []
    },
    {
      "cell_type": "code",
      "source": [
        "# Define a function to remove URLs from a series of text\n",
        "def remove_urls(text_series):\n",
        "    # Define a regular expression pattern to match URLs\n",
        "    url_pattern = re.compile(r'https?://\\S+|www\\.\\S+')\n",
        "    # Apply the URL pattern substitution to each element in the series\n",
        "    return text_series.apply(lambda x: url_pattern.sub(r'', x))"
      ],
      "metadata": {
        "id": "bA9paONBEBgB"
      },
      "execution_count": null,
      "outputs": []
    },
    {
      "cell_type": "code",
      "source": [
        "text = data['reviewText']\n",
        "remove_urls(text)"
      ],
      "metadata": {
        "colab": {
          "base_uri": "https://localhost:8080/"
        },
        "id": "7vWt2WFBEDSo",
        "outputId": "38617ec7-98fd-4620-bb2f-e9f81b317ea5"
      },
      "execution_count": null,
      "outputs": [
        {
          "output_type": "execute_result",
          "data": {
            "text/plain": [
              "0        This book was the very first bookmobile book I...\n",
              "1        When I read the description for this book I co...\n",
              "2        I just had to edit this review This book is an...\n",
              "3        I dont normally buy mystery novels because I j...\n",
              "4        This isnt the kind of book I normally read alt...\n",
              "                               ...                        \n",
              "11994    After E A Poe came H P Lovecraft in the world ...\n",
              "11995    Had to read certain passages twicetypos  Wish ...\n",
              "11997    Dragon Knights is a world where Knights ride d...\n",
              "11998    Since this story is very short its hard to say...\n",
              "11999    from 1922 an amazing collection of info on sym...\n",
              "Name: reviewText, Length: 10000, dtype: object"
            ]
          },
          "metadata": {},
          "execution_count": 11
        }
      ]
    },
    {
      "cell_type": "markdown",
      "source": [
        "### Normalizing data"
      ],
      "metadata": {
        "id": "BT-GbJPnW9eH"
      }
    },
    {
      "cell_type": "code",
      "source": [
        "# Convert the 'reviewText' column to lowercase\n",
        "data['reviewText'] = data['reviewText'].apply(lambda x: x.lower())"
      ],
      "metadata": {
        "id": "FBItDLEZEFr6"
      },
      "execution_count": null,
      "outputs": []
    },
    {
      "cell_type": "code",
      "source": [
        "# Divide the dataset into training and testing subsets\n",
        "X_train, X_test, y_train, y_test = train_test_split(data['reviewText'], data['sentiment'], test_size=0.2, random_state=42)\n"
      ],
      "metadata": {
        "id": "QTaKWHxqEIYO"
      },
      "execution_count": null,
      "outputs": []
    },
    {
      "cell_type": "markdown",
      "source": [
        "### Padding or tokenizations"
      ],
      "metadata": {
        "id": "Q-dwqiLanRYU"
      }
    },
    {
      "cell_type": "code",
      "source": [
        "# Tokenize the text sequences and ensure uniform length by padding\n",
        "tokenizer = Tokenizer(num_words=5000, oov_token='UNK')\n",
        "tokenizer.fit_on_texts(X_train)\n",
        "X_train_seq = tokenizer.texts_to_sequences(X_train)\n",
        "X_test_seq = tokenizer.texts_to_sequences(X_test)\n",
        "X_train_padded = pad_sequences(X_train_seq, maxlen=200)\n",
        "X_test_padded = pad_sequences(X_test_seq, maxlen=200)"
      ],
      "metadata": {
        "id": "p0rKfWMFELP_"
      },
      "execution_count": null,
      "outputs": []
    },
    {
      "cell_type": "code",
      "source": [
        "# print the cleaned, preprocessed dataset's form.\n",
        "print(X_train_padded.shape)\n",
        "print(X_test_padded.shape)"
      ],
      "metadata": {
        "colab": {
          "base_uri": "https://localhost:8080/"
        },
        "id": "h1aMqp4eEN_z",
        "outputId": "9cb77659-0112-4647-d677-0eefced7c0a1"
      },
      "execution_count": null,
      "outputs": [
        {
          "output_type": "stream",
          "name": "stdout",
          "text": [
            "(8000, 200)\n",
            "(2000, 200)\n"
          ]
        }
      ]
    },
    {
      "cell_type": "markdown",
      "source": [
        "# Model Building\n"
      ],
      "metadata": {
        "id": "LOilQUeCnb31"
      }
    },
    {
      "cell_type": "markdown",
      "source": [
        "## Model Summary"
      ],
      "metadata": {
        "id": "pI6uRsoqnjgl"
      }
    },
    {
      "cell_type": "code",
      "source": [
        "# specify the architectural model.\n",
        "model = Sequential()\n",
        "model.add(Embedding(input_dim=5000, output_dim=32, input_length=200))\n",
        "model.add(LSTM(units=64, dropout=0.2, recurrent_dropout=0.2))\n",
        "model.add(Dense(units=1, activation='sigmoid'))"
      ],
      "metadata": {
        "id": "OfzztCJkEQT9"
      },
      "execution_count": null,
      "outputs": []
    },
    {
      "cell_type": "code",
      "source": [
        "# Compile the model with binary cross-entropy loss, Adam optimizer, and accuracy metric\n",
        "model.compile(loss='binary_crossentropy', optimizer='adam', metrics=['accuracy'])\n",
        "\n",
        "# Print a summary of the model architecture\n",
        "print(model.summary())\n"
      ],
      "metadata": {
        "colab": {
          "base_uri": "https://localhost:8080/"
        },
        "id": "-vmaGROMESc5",
        "outputId": "1dcc1b9c-e048-4907-a76b-bbf284197887"
      },
      "execution_count": null,
      "outputs": [
        {
          "output_type": "stream",
          "name": "stdout",
          "text": [
            "Model: \"sequential\"\n",
            "_________________________________________________________________\n",
            " Layer (type)                Output Shape              Param #   \n",
            "=================================================================\n",
            " embedding (Embedding)       (None, 200, 32)           160000    \n",
            "                                                                 \n",
            " lstm (LSTM)                 (None, 64)                24832     \n",
            "                                                                 \n",
            " dense (Dense)               (None, 1)                 65        \n",
            "                                                                 \n",
            "=================================================================\n",
            "Total params: 184897 (722.25 KB)\n",
            "Trainable params: 184897 (722.25 KB)\n",
            "Non-trainable params: 0 (0.00 Byte)\n",
            "_________________________________________________________________\n",
            "None\n"
          ]
        }
      ]
    },
    {
      "cell_type": "code",
      "source": [
        "# Define a custom callback class\n",
        "class Mycallback(tf.keras.callbacks.Callback):\n",
        "\n",
        "  # Method called at the end of each epoch\n",
        "  def on_epoch_end(self, epoch, logs={}):\n",
        "    # Check if accuracy exceeds 0.95\n",
        "    if(logs.get(\"accuracy\") > 0.95):\n",
        "      # Print a message and stop training if condition is met\n",
        "      print('\\nLoss is low so stop training')\n",
        "      self.model.stop_training = True\n"
      ],
      "metadata": {
        "id": "jpDXJUzcEYQg"
      },
      "execution_count": null,
      "outputs": []
    },
    {
      "cell_type": "code",
      "source": [
        "# Create an instance of the custom callback class\n",
        "callbacks = Mycallback()\n"
      ],
      "metadata": {
        "id": "lPOzE4K9EbFI"
      },
      "execution_count": null,
      "outputs": []
    },
    {
      "cell_type": "markdown",
      "source": [
        "## Training of the Model:"
      ],
      "metadata": {
        "id": "jNWZn4i7mhZQ"
      }
    },
    {
      "cell_type": "code",
      "source": [
        "# Train the model\n",
        "history = model.fit(\n",
        "    X_train_padded,  # Training data\n",
        "    y_train,         # Training labels\n",
        "    epochs=10,       # Number of epochs\n",
        "    batch_size=128,  # Batch size\n",
        "    validation_data=(X_test_padded, y_test),  # Validation data\n",
        "    callbacks=[callbacks]  # Callbacks for early stopping\n",
        ")"
      ],
      "metadata": {
        "colab": {
          "base_uri": "https://localhost:8080/"
        },
        "id": "IKM_V7SmEeWE",
        "outputId": "5a08a1fb-e212-4a65-d0f3-b62e56e32b66"
      },
      "execution_count": null,
      "outputs": [
        {
          "output_type": "stream",
          "name": "stdout",
          "text": [
            "Epoch 1/10\n",
            "63/63 [==============================] - 42s 554ms/step - loss: 0.6515 - accuracy: 0.6587 - val_loss: 0.5676 - val_accuracy: 0.8025\n",
            "Epoch 2/10\n",
            "63/63 [==============================] - 31s 495ms/step - loss: 0.3931 - accuracy: 0.8431 - val_loss: 0.3027 - val_accuracy: 0.8895\n",
            "Epoch 3/10\n",
            "63/63 [==============================] - 37s 579ms/step - loss: 0.2758 - accuracy: 0.8972 - val_loss: 0.7669 - val_accuracy: 0.7470\n",
            "Epoch 4/10\n",
            "63/63 [==============================] - 33s 525ms/step - loss: 0.2394 - accuracy: 0.9126 - val_loss: 0.2533 - val_accuracy: 0.8975\n",
            "Epoch 5/10\n",
            "63/63 [==============================] - 31s 498ms/step - loss: 0.1710 - accuracy: 0.9381 - val_loss: 0.2465 - val_accuracy: 0.9055\n",
            "Epoch 6/10\n",
            "63/63 [==============================] - ETA: 0s - loss: 0.1328 - accuracy: 0.9554\n",
            "Loss is low so stop training\n",
            "63/63 [==============================] - 31s 498ms/step - loss: 0.1328 - accuracy: 0.9554 - val_loss: 0.2826 - val_accuracy: 0.8995\n"
          ]
        }
      ]
    },
    {
      "cell_type": "markdown",
      "source": [
        "##Evaluation of the Model:"
      ],
      "metadata": {
        "id": "dP48UMWKmrYw"
      }
    },
    {
      "cell_type": "code",
      "source": [
        "# plot the training and validation loss\n",
        "plt.title('Training and Validation Loss')\n",
        "plt.plot(history.history['loss'], label='Training Loss')\n",
        "plt.plot(history.history['val_loss'], label='Validation Loss')\n",
        "plt.legend()\n",
        "plt.show()"
      ],
      "metadata": {
        "colab": {
          "base_uri": "https://localhost:8080/",
          "height": 452
        },
        "id": "qKofEFXPEkmD",
        "outputId": "b4770aa7-54e7-4063-b2e0-9c9983b73247"
      },
      "execution_count": null,
      "outputs": [
        {
          "output_type": "display_data",
          "data": {
            "text/plain": [
              "<Figure size 640x480 with 1 Axes>"
            ],
            "image/png": "[encoded data removed]"
          },
          "metadata": {}
        }
      ]
    },
    {
      "cell_type": "code",
      "source": [
        "# Plotting training and validation accuracy over epochs helps visualize model learning and generalization.\n",
        "plt.plot(history.history['accuracy'], label='Training Accuracy')  # Plot training accuracy\n",
        "plt.plot(history.history['val_accuracy'], label='Validation Accuracy')  # Plot validation accuracy\n",
        "plt.title('Training and Validation Accuracy')  # Set plot title\n",
        "plt.xlabel('Epochs')  # Set x-axis label\n",
        "plt.ylabel('Accuracy')  # Set y-axis label\n",
        "plt.legend()  # Add legend to the plot\n",
        "plt.show()  # Display the plot\n"
      ],
      "metadata": {
        "colab": {
          "base_uri": "https://localhost:8080/",
          "height": 472
        },
        "id": "LVzGiEGs9s5z",
        "outputId": "8a0f07a8-03fe-4300-a2ad-246cac0974d4"
      },
      "execution_count": null,
      "outputs": [
        {
          "output_type": "display_data",
          "data": {
            "text/plain": [
              "<Figure size 640x480 with 1 Axes>"
            ],
            "image/png": "[encoded data removed]"
          },
          "metadata": {}
        }
      ]
    },
    {
      "cell_type": "code",
      "source": [
        "# Evaluate the model on the test data\n",
        "loss, accuracy = model.evaluate(X_test_padded, y_test, verbose=0)\n",
        "\n",
        "# Print the test loss and accuracy\n",
        "print('Test Loss:', loss)  # Print test loss\n",
        "print('Test Accuracy:', accuracy)  # Print test accuracy\n"
      ],
      "metadata": {
        "colab": {
          "base_uri": "https://localhost:8080/"
        },
        "id": "4TjqItfVEn5P",
        "outputId": "7c4320c8-bafc-4cd4-80e3-4ddee7a0e8ea"
      },
      "execution_count": null,
      "outputs": [
        {
          "output_type": "stream",
          "name": "stdout",
          "text": [
            "Test Loss: 0.28255757689476013\n",
            "Test Accuracy: 0.8995000123977661\n"
          ]
        }
      ]
    },
    {
      "cell_type": "code",
      "source": [
        "# Get the predicted labels by the model\n",
        "y_pred = model.predict(X_test_padded)\n",
        "y_pred = [round(pred[0]) for pred in y_pred]  # Convert predicted probabilities to binary labels\n",
        "\n",
        "# Create the confusion matrix\n",
        "cm = confusion_matrix(y_test, y_pred)\n",
        "\n",
        "# Print the confusion matrix\n",
        "print(cm)\n"
      ],
      "metadata": {
        "colab": {
          "base_uri": "https://localhost:8080/"
        },
        "id": "TOcnbbDcEsB8",
        "outputId": "1956fa81-1a3a-4321-d061-c10d74c79a73"
      },
      "execution_count": null,
      "outputs": [
        {
          "output_type": "stream",
          "name": "stdout",
          "text": [
            "63/63 [==============================] - 4s 56ms/step\n",
            "[[ 740   89]\n",
            " [ 112 1059]]\n"
          ]
        }
      ]
    },
    {
      "cell_type": "code",
      "source": [
        "# Get the predicted probabilities by the model\n",
        "y_prob = model.predict(X_test_padded)\n",
        "\n",
        "# Convert predicted probabilities to binary labels\n",
        "y_pred = [round(prob[0]) for prob in y_prob]\n",
        "\n",
        "# Calculate the F1 score\n",
        "f1 = f1_score(y_test, y_pred)\n",
        "\n",
        "# Print the F1 score\n",
        "print('F1 score:', f1)\n"
      ],
      "metadata": {
        "colab": {
          "base_uri": "https://localhost:8080/"
        },
        "id": "lSkhKSTeEvDY",
        "outputId": "32a8a061-d758-4e96-e2d0-1cba06748387"
      },
      "execution_count": null,
      "outputs": [
        {
          "output_type": "stream",
          "name": "stdout",
          "text": [
            "63/63 [==============================] - 3s 47ms/step\n",
            "F1 score: 0.9133247089262613\n"
          ]
        }
      ]
    },
    {
      "cell_type": "code",
      "source": [
        "# Calculate the ROC curve\n",
        "fpr, tpr, thresholds = roc_curve(y_test, y_prob)\n",
        "\n",
        "# Calculate the AUC score\n",
        "auc_score = auc(fpr, tpr)\n",
        "\n",
        "# Plot the ROC curve\n",
        "plt.plot(fpr, tpr, label='ROC curve (AUC = %0.2f)' % auc_score)  # Plot ROC curve\n",
        "plt.plot([0, 1], [0, 1], linestyle='--', label='Random guess')  # Plot random guess line\n",
        "plt.xlabel('False Positive Rate')  # Set x-axis label\n",
        "plt.ylabel('True Positive Rate')  # Set y-axis label\n",
        "plt.legend()  # Add legend to the plot\n",
        "plt.show()  # Display the plot\n"
      ],
      "metadata": {
        "colab": {
          "base_uri": "https://localhost:8080/",
          "height": 449
        },
        "id": "Tq944BYeE0NP",
        "outputId": "6fc8c6f7-2bb3-431b-b511-b50563aee34b"
      },
      "execution_count": null,
      "outputs": [
        {
          "output_type": "display_data",
          "data": {
            "text/plain": [
              "<Figure size 640x480 with 1 Axes>"
            ],
            "image/png": "[encoded data removed]"
          },
          "metadata": {}
        }
      ]
    },
    {
      "cell_type": "markdown",
      "source": [
        "# Final Discussions"
      ],
      "metadata": {
        "id": "31OP8t9nnDCE"
      }
    },
    {
      "cell_type": "code",
      "source": [
        "# Make predictions on the test set\n",
        "y_pred = model.predict(X_test_padded)  # Get predicted probabilities\n",
        "y_pred = [round(pred[0]) for pred in y_pred]  # Convert probabilities to binary labels\n",
        "\n",
        "# Print the first 10 true and predicted labels\n",
        "print('True labels:', list(y_test)[:10])  # Print true labels of the first 10 samples\n",
        "print('Predicted labels:', y_pred[:10])  # Print predicted labels of the first 10 samples"
      ],
      "metadata": {
        "colab": {
          "base_uri": "https://localhost:8080/"
        },
        "id": "gsoPCn3NE3ji",
        "outputId": "38670709-aca6-4138-a034-b8525c2e5064"
      },
      "execution_count": null,
      "outputs": [
        {
          "output_type": "stream",
          "name": "stdout",
          "text": [
            "63/63 [==============================] - 5s 79ms/step\n",
            "True labels: [1, 1, 1, 0, 1, 0, 0, 0, 1, 1]\n",
            "Predicted labels: [1, 0, 1, 0, 1, 0, 0, 0, 1, 0]\n"
          ]
        }
      ]
    },
    {
      "cell_type": "code",
      "source": [
        "# Convert the review text to a list\n",
        "n_review = [\"I bought this set and returned it. I couldn't force myself to finish the first book, A Touch of Silk. (They are bundled out of order, too). The writing and phrasing was so immature that I thought at first it was a satire! But the pages and pages of supposedly erotic fantasy stuffing the book to bring up the word count was the final blow. \"]\n",
        "\n",
        "# Tokenize the review text\n",
        "n_review_token = tokenizer.texts_to_sequences(n_review)"
      ],
      "metadata": {
        "id": "HLjlrXVKE5pa"
      },
      "execution_count": null,
      "outputs": []
    },
    {
      "cell_type": "code",
      "source": [
        "# Pad the tokenized review sequences to a maximum length of 100 tokens, adding padding at the end\n",
        "n_review_padded = pad_sequences(n_review_token, maxlen=100, padding='post')"
      ],
      "metadata": {
        "id": "kuXK0-AvFAD2"
      },
      "execution_count": null,
      "outputs": []
    },
    {
      "cell_type": "code",
      "source": [
        "# Predict the sentiment of the review using the trained model\n",
        "review_predict = (model.predict(n_review_padded) > 0.5).astype('int32')\n"
      ],
      "metadata": {
        "colab": {
          "base_uri": "https://localhost:8080/"
        },
        "id": "akwHVegDFBhS",
        "outputId": "b2681c7b-d654-4659-bb03-b840b92c97ce"
      },
      "execution_count": null,
      "outputs": [
        {
          "output_type": "stream",
          "name": "stdout",
          "text": [
            "1/1 [==============================] - 0s 131ms/step\n"
          ]
        }
      ]
    },
    {
      "cell_type": "code",
      "source": [
        "# Check the model's prediction and print the corresponding message\n",
        "if review_predict[0] == 0:\n",
        "    print(\"It's a negative review\")  # Print if the model predicts negative sentiment (0)\n",
        "else:\n",
        "    print(\"It's a positive review\")  # Print if the model predicts positive sentiment (1)"
      ],
      "metadata": {
        "colab": {
          "base_uri": "https://localhost:8080/"
        },
        "id": "-G-Dmyy1FDhZ",
        "outputId": "90bba8f1-48d3-46d0-e837-0f2b46d89403"
      },
      "execution_count": null,
      "outputs": [
        {
          "output_type": "stream",
          "name": "stdout",
          "text": [
            "It's a negative review\n"
          ]
        }
      ]
    }
  ]
}